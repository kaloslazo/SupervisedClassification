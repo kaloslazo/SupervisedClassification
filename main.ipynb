{
 "cells": [
  {
   "cell_type": "markdown",
   "id": "50fe15c1-f5a1-422f-ad6c-cd7c4867d616",
   "metadata": {},
   "source": [
    "# Proyecto 2: Clasificación Supervisada\n",
    "\n",
    "### Integrantes:\n",
    "- Kalos Lazo\n",
    "- Benjamín Soto\n",
    "- Lucas Carranza\n",
    "- José Osnayo"
   ]
  },
  {
   "cell_type": "code",
   "execution_count": 14,
   "id": "08854a42-5d10-4b31-8f32-f3d4c1b71425",
   "metadata": {},
   "outputs": [],
   "source": [
    "import numpy as np\n",
    "import pandas as pd\n",
    "import tables as pt\n",
    "from sklearn.model_selection import train_test_split\n",
    "from sklearn.metrics import accuracy_score, confusion_matrix"
   ]
  },
  {
   "cell_type": "markdown",
   "id": "51103abe-9e9f-4492-8024-ec0953c60216",
   "metadata": {},
   "source": [
    "## Data"
   ]
  },
  {
   "cell_type": "code",
   "execution_count": 16,
   "id": "3d42b484-79fd-47ec-80c9-7ce71c63f6d4",
   "metadata": {},
   "outputs": [
    {
     "name": "stdout",
     "output_type": "stream",
     "text": [
      "data/train.h5 (File) ''\n",
      "Last modif.: '2024-05-02T20:24:00+00:00'\n",
      "Object Tree: \n",
      "/ (RootGroup) ''\n",
      "/body_acc_x (Array(7352, 128)) ''\n",
      "/body_acc_y (Array(7352, 128)) ''\n",
      "/body_acc_z (Array(7352, 128)) ''\n",
      "/body_gyro_x (Array(7352, 128)) ''\n",
      "/body_gyro_y (Array(7352, 128)) ''\n",
      "/body_gyro_z (Array(7352, 128)) ''\n",
      "/total_acc_x (Array(7352, 128)) ''\n",
      "/total_acc_y (Array(7352, 128)) ''\n",
      "/total_acc_z (Array(7352, 128)) ''\n",
      "/y (Array(7352,)) ''\n",
      "\n"
     ]
    }
   ],
   "source": [
    "path = \"data/\"\n",
    "train_path = path + \"train.h5\"\n",
    "test_path = path + \"test.h5\"\n",
    "\n",
    "train_data = pt.open_file(train_path, mode='r')\n",
    "test_data = pt.open_file(test_path, mode='r')\n",
    "print(train_data)"
   ]
  },
  {
   "cell_type": "markdown",
   "id": "4d0ab3e5-d60e-4b67-9575-248aff5c5eb7",
   "metadata": {},
   "source": [
    "### Análisis"
   ]
  },
  {
   "cell_type": "code",
   "execution_count": 17,
   "id": "a825db82-6ba6-4257-919e-c892f6985d35",
   "metadata": {},
   "outputs": [
    {
     "ename": "TypeError",
     "evalue": "'File' object is not subscriptable",
     "output_type": "error",
     "traceback": [
      "\u001b[0;31m---------------------------------------------------------------------------\u001b[0m",
      "\u001b[0;31mTypeError\u001b[0m                                 Traceback (most recent call last)",
      "Cell \u001b[0;32mIn[17], line 1\u001b[0m\n\u001b[0;32m----> 1\u001b[0m \u001b[43mtrain_data\u001b[49m\u001b[43m[\u001b[49m\u001b[38;5;241;43m1\u001b[39;49m\u001b[43m]\u001b[49m\n",
      "\u001b[0;31mTypeError\u001b[0m: 'File' object is not subscriptable"
     ]
    }
   ],
   "source": [
    "train_data[1]"
   ]
  },
  {
   "cell_type": "markdown",
   "id": "bb5e2a9e-3483-4568-98aa-97ed48c025c4",
   "metadata": {},
   "source": [
    "### Manipulación"
   ]
  },
  {
   "cell_type": "code",
   "execution_count": null,
   "id": "1d6d5655-e549-4cdb-bd86-74a44e420481",
   "metadata": {},
   "outputs": [],
   "source": [
    "# Convertir clases a int\n",
    "\n",
    "\n",
    "# Normalizar"
   ]
  },
  {
   "cell_type": "markdown",
   "id": "d35b5a1d-f3eb-43ba-9299-e73ca9b186f3",
   "metadata": {},
   "source": [
    "### Reducción de Dimensionalidad"
   ]
  },
  {
   "cell_type": "code",
   "execution_count": null,
   "id": "e27a5654-f8a8-4cb1-8f1a-99b9dac38b0b",
   "metadata": {},
   "outputs": [],
   "source": [
    "# SVD"
   ]
  },
  {
   "cell_type": "markdown",
   "id": "efa743e4-b7d1-422a-bdc9-f6c823ce8178",
   "metadata": {},
   "source": [
    "## Modelos"
   ]
  },
  {
   "cell_type": "markdown",
   "id": "14969e91-9c6b-4dcf-af47-fcd5e60996d2",
   "metadata": {},
   "source": [
    "### Modelo 1"
   ]
  },
  {
   "cell_type": "code",
   "execution_count": null,
   "id": "ca785654-5e0f-4e79-bdbb-73548d1d29df",
   "metadata": {},
   "outputs": [],
   "source": []
  },
  {
   "cell_type": "markdown",
   "id": "48383d98-1dbc-4f6f-89b3-3c60b60927c1",
   "metadata": {},
   "source": [
    "### Modelo 2"
   ]
  },
  {
   "cell_type": "code",
   "execution_count": null,
   "id": "d6c88dc2-df28-4960-af0d-7241813698e7",
   "metadata": {},
   "outputs": [],
   "source": []
  },
  {
   "cell_type": "markdown",
   "id": "aa36506b-cbae-4f98-9e20-3eb7e0703aeb",
   "metadata": {},
   "source": [
    "## Training"
   ]
  },
  {
   "cell_type": "markdown",
   "id": "db4313e5-72ac-49bf-9985-41a3b05d97f6",
   "metadata": {},
   "source": [
    "### Split"
   ]
  },
  {
   "cell_type": "code",
   "execution_count": null,
   "id": "62d35d91-3c9c-4022-9278-ec1805a01502",
   "metadata": {},
   "outputs": [],
   "source": [
    "xtrain, xval, ytrain, yval = train_test_split()"
   ]
  },
  {
   "cell_type": "markdown",
   "id": "91356aff-b90d-4cc0-9d3c-810b7ae5d1f8",
   "metadata": {},
   "source": [
    "### Resultados"
   ]
  },
  {
   "cell_type": "code",
   "execution_count": null,
   "id": "9fb09890-ea96-478f-8d30-70c64051e3a6",
   "metadata": {},
   "outputs": [],
   "source": []
  },
  {
   "cell_type": "markdown",
   "id": "f5dd7ec1-40c8-4819-aa67-f77b1b15ab1a",
   "metadata": {},
   "source": [
    "## Submission"
   ]
  },
  {
   "cell_type": "code",
   "execution_count": null,
   "id": "54841f6a-aa2a-45dc-89f0-e86c858243f3",
   "metadata": {},
   "outputs": [],
   "source": [
    "# Normalizar xtest\n",
    "\n",
    "# Ejecutar modelo\n",
    "\n",
    "# Desnormalizar resultados con Y"
   ]
  }
 ],
 "metadata": {
  "kernelspec": {
   "display_name": "Python 3 (ipykernel)",
   "language": "python",
   "name": "python3"
  },
  "language_info": {
   "codemirror_mode": {
    "name": "ipython",
    "version": 3
   },
   "file_extension": ".py",
   "mimetype": "text/x-python",
   "name": "python",
   "nbconvert_exporter": "python",
   "pygments_lexer": "ipython3",
   "version": "3.12.3"
  }
 },
 "nbformat": 4,
 "nbformat_minor": 5
}
